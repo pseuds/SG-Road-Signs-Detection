{
 "cells": [
  {
   "cell_type": "code",
   "execution_count": 1,
   "metadata": {},
   "outputs": [
    {
     "name": "stdout",
     "output_type": "stream",
     "text": [
      "['C:/Users/user/OneDrive - Singapore University of Technology and Design/Documents/SUTD Academics/Term 7/50.035 Computer Vision/Group Project Github/SG-Road-Signs-Detection/Dataset/TRAIN_PP\\\\0_INFO_END_OF_EXP_WAY\\\\0356.jpg', 'C:/Users/user/OneDrive - Singapore University of Technology and Design/Documents/SUTD Academics/Term 7/50.035 Computer Vision/Group Project Github/SG-Road-Signs-Detection/Dataset/TRAIN_PP\\\\0_INFO_END_OF_EXP_WAY\\\\0356_1.jpg', 'C:/Users/user/OneDrive - Singapore University of Technology and Design/Documents/SUTD Academics/Term 7/50.035 Computer Vision/Group Project Github/SG-Road-Signs-Detection/Dataset/TRAIN_PP\\\\0_INFO_END_OF_EXP_WAY\\\\0357.jpg', 'C:/Users/user/OneDrive - Singapore University of Technology and Design/Documents/SUTD Academics/Term 7/50.035 Computer Vision/Group Project Github/SG-Road-Signs-Detection/Dataset/TRAIN_PP\\\\0_INFO_END_OF_EXP_WAY\\\\0457.jpg', 'C:/Users/user/OneDrive - Singapore University of Technology and Design/Documents/SUTD Academics/Term 7/50.035 Computer Vision/Group Project Github/SG-Road-Signs-Detection/Dataset/TRAIN_PP\\\\0_INFO_END_OF_EXP_WAY\\\\0457_1.jpg']\n"
     ]
    }
   ],
   "source": [
    "import cv2\n",
    "import os\n",
    "\n",
    "preprocessed_train_folder = \"C:/Users/user/OneDrive - Singapore University of Technology and Design/Documents/SUTD Academics/Term 7/50.035 Computer Vision/Group Project Github/SG-Road-Signs-Detection/Dataset/TRAIN_PP\"\n",
    "\n",
    "train_image_files = []\n",
    "\n",
    "for label_folder in os.listdir(preprocessed_train_folder):\n",
    "    label_folder_path = os.path.join(preprocessed_train_folder, label_folder)\n",
    "\n",
    "    if os.path.isdir(label_folder_path):\n",
    "        for filename in os.listdir(label_folder_path):\n",
    "            if filename.endswith(('.jpg', '.png', '.jpeg')):\n",
    "                image_path = os.path.join(label_folder_path, filename)\n",
    "                train_image_files.append(image_path)\n",
    "\n",
    "# Check the first few file paths to verify\n",
    "print(train_image_files[:5])\n"
   ]
  },
  {
   "cell_type": "code",
   "execution_count": null,
   "metadata": {},
   "outputs": [
    {
     "name": "stdout",
     "output_type": "stream",
     "text": [
      "Augmented images count: 2449\n",
      "Augmented labels count: 2449\n"
     ]
    }
   ],
   "source": [
    "import random\n",
    "import cv2\n",
    "import numpy as np\n",
    "import os\n",
    "\n",
    "def random_rotation(image, max_angle=30):\n",
    "    angle = np.random.uniform(-max_angle, max_angle)\n",
    "    height, width = image.shape[:2]\n",
    "    center = (width // 2, height // 2)\n",
    "    matrix = cv2.getRotationMatrix2D(center, angle, 1.0)\n",
    "    rotated_image = cv2.warpAffine(image, matrix, (width, height))\n",
    "    return rotated_image\n",
    "\n",
    "def random_brightness_contrast(image, alpha=1.2, beta=10):\n",
    "    return cv2.convertScaleAbs(image, alpha=alpha, beta=beta)\n",
    "\n",
    "def random_flip(image):\n",
    "    if random.random() > 0.5:\n",
    "        return cv2.flip(image, 1)  # Horizontal flip\n",
    "    return image\n",
    "\n",
    "def random_scaling(image, min_scale=0.8, max_scale=1.2):\n",
    "    scale = np.random.uniform(min_scale, max_scale)\n",
    "    height, width = image.shape[:2]\n",
    "    new_width = int(width * scale)\n",
    "    new_height = int(height * scale)\n",
    "    scaled_image = cv2.resize(image, (new_width, new_height))\n",
    "    \n",
    "    # Center crop the image to the original size\n",
    "    crop_x = (scaled_image.shape[1] - width) // 2\n",
    "    crop_y = (scaled_image.shape[0] - height) // 2\n",
    "    cropped_image = scaled_image[crop_y:crop_y + height, crop_x:crop_x + width]\n",
    "    return cropped_image\n",
    "\n",
    "# Combine all augmentation steps into one function (without normalization for now)\n",
    "def augment_image(image):\n",
    "    # Apply augmentations\n",
    "    image = random_rotation(image)\n",
    "    image = random_brightness_contrast(image)\n",
    "    image = random_flip(image)\n",
    "    image = random_scaling(image)\n",
    "    \n",
    "    return image\n",
    "\n",
    "preprocessed_train_folder = \"C:/Users/user/OneDrive - Singapore University of Technology and Design/Documents/SUTD Academics/Term 7/50.035 Computer Vision/Group Project Github/SG-Road-Signs-Detection/Dataset/TRAIN_PP\"\n",
    "\n",
    "augmented_train_images = []\n",
    "augmented_labels = []\n",
    "\n",
    "for label_folder in os.listdir(preprocessed_train_folder):\n",
    "    label_folder_path = os.path.join(preprocessed_train_folder, label_folder)\n",
    "    \n",
    "    if os.path.isdir(label_folder_path):\n",
    "        for filename in os.listdir(label_folder_path):\n",
    "            if filename.endswith(('.jpg', '.png', '.jpeg')):\n",
    "                image_path = os.path.join(label_folder_path, filename)\n",
    "            \n",
    "                image = cv2.imread(image_path)\n",
    "            \n",
    "                if image is None:\n",
    "                    print(f\"Failed to read image: {image_path}\")\n",
    "                    continue  # Skip if the image cannot be loaded\n",
    "                \n",
    "                augmented_image = augment_image(image)\n",
    "                \n",
    "                augmented_train_images.append(augmented_image)\n",
    "                augmented_labels.append(label_folder)  # The folder name is the label\n",
    "\n",
    "# Check the number of augmented images and labels\n",
    "print(\"Augmented images count:\", len(augmented_train_images))\n",
    "print(\"Augmented labels count:\", len(augmented_labels))\n",
    "\n"
   ]
  },
  {
   "cell_type": "code",
   "execution_count": 5,
   "metadata": {},
   "outputs": [],
   "source": [
    "output_folder = \"C:/Users/user/OneDrive - Singapore University of Technology and Design/Documents/SUTD Academics/Term 7/50.035 Computer Vision/Group Project Github/SG-Road-Signs-Detection/Dataset/augmented_train\"\n",
    "os.makedirs(output_folder, exist_ok=True)\n",
    "\n",
    "for i, augmented_image in enumerate(augmented_train_images):\n",
    "    # Save augmented image with its label as part of the filename\n",
    "    label = augmented_labels[i]\n",
    "    output_path = os.path.join(output_folder, f\"{label}_{i}.jpg\")\n",
    "    cv2.imwrite(output_path, augmented_image * 255)  # Convert back to 0-255 range\n"
   ]
  }
 ],
 "metadata": {
  "kernelspec": {
   "display_name": "base",
   "language": "python",
   "name": "python3"
  },
  "language_info": {
   "codemirror_mode": {
    "name": "ipython",
    "version": 3
   },
   "file_extension": ".py",
   "mimetype": "text/x-python",
   "name": "python",
   "nbconvert_exporter": "python",
   "pygments_lexer": "ipython3",
   "version": "3.8.8"
  }
 },
 "nbformat": 4,
 "nbformat_minor": 2
}
